{
  "cells": [
    {
      "cell_type": "markdown",
      "metadata": {
        "id": "view-in-github",
        "colab_type": "text"
      },
      "source": [
        "<a href=\"https://colab.research.google.com/github/osalpekar/Blackjack/blob/master/08_Kmeans_Clustering.ipynb\" target=\"_parent\"><img src=\"https://colab.research.google.com/assets/colab-badge.svg\" alt=\"Open In Colab\"/></a>"
      ]
    },
    {
      "cell_type": "markdown",
      "metadata": {
        "id": "oeL1CksCWEql"
      },
      "source": [
        "# Lab 8: \n",
        "\n",
        "##K-means Clustering\n",
        "\n",
        "[The RGB color model](https://en.wikipedia.org/wiki/RGB_color_model) is an additive color model in which the red, green, and blue primary colors of light are added together in various ways to reproduce a broad array of colors. The name of the model comes from the initials of the three additive primary colors, red, green, and blue.\n",
        "\n",
        "There are plenty of RBG-to-color converters on the web \n",
        "https://www.rapidtables.com/convert/color/rgb-to-hex.html\n",
        "\n",
        "These two RGB triples look almost identical to the human eye\n",
        "- [0, 0, 255]\n",
        "- [0, 1, 255]\n",
        "\n",
        "However there is no \"reverse lookup\" that tells you that \"this color is close to blue\" unless it is a [basic](https://en.wikipedia.org/wiki/Web_colors#Basic_colors) or [extended](https://en.wikipedia.org/wiki/Web_colors#Extended_colors) color with a specified RGB value.\n",
        "\n",
        "For this assignment you are provided a file with RGB triples for a bunch of colors.\n",
        "\n",
        "The task is to use K-means clustering to:\n",
        "\n",
        "- group the colors into color families\n",
        "- make a histogram of your color clusters to see the dsitribution of colors\n",
        "- establish some human-readable names for your clusters like red, blue, yellow, etc.\n",
        "- determine the centroids of the clusters\n",
        "- write a function that makes the best guess of an RGB triple based on the centroids\n",
        "- make some visual output to show that your guesses worked"
      ]
    },
    {
      "cell_type": "code",
      "execution_count": null,
      "metadata": {
        "id": "lpOiog6ffG1N"
      },
      "outputs": [],
      "source": [
        "## import necessary libraries and packages\n",
        "import pandas\n",
        "import numpy as np\n",
        "import matplotlib.pyplot as plt\n",
        "from mpl_toolkits.mplot3d import Axes3D\n",
        "from sklearn.cluster import KMeans"
      ]
    },
    {
      "cell_type": "code",
      "source": [
        "from google.colab import drive\n",
        "drive.mount('/content/drive/')"
      ],
      "metadata": {
        "colab": {
          "base_uri": "https://localhost:8080/"
        },
        "id": "SRhwVOmp6WrQ",
        "outputId": "63c1959e-b082-4893-cba5-a39ae01061f2"
      },
      "execution_count": null,
      "outputs": [
        {
          "output_type": "stream",
          "name": "stdout",
          "text": [
            "Mounted at /content/drive/\n"
          ]
        }
      ]
    },
    {
      "cell_type": "code",
      "source": [
        "!cd drive/MyDrive/w207"
      ],
      "metadata": {
        "id": "xx5atFes60tU"
      },
      "execution_count": null,
      "outputs": []
    },
    {
      "cell_type": "markdown",
      "metadata": {
        "id": "1vulsLQRfAzV"
      },
      "source": [
        "## Load Data\n",
        "\n",
        "This color data was taken from a selection of digital ad images where the goal of the project was to understand if the presence of certain colors were indicative of high performing ads.\n",
        "\n",
        "However, before making a predictive model, it was necessary to actually classify the color of RBG triples that were present in the images.\n",
        "\n",
        "It is important to note that if the color values were uniformly distributed there would be no value in clustering.\n"
      ]
    },
    {
      "cell_type": "code",
      "execution_count": null,
      "metadata": {
        "id": "ojQcyUk0fDG_"
      },
      "outputs": [],
      "source": [
        "data_file = \"/content/drive/MyDrive/w207/rgb_colors.csv\"\n",
        "df_colors = pandas.read_csv(data_file)\n"
      ]
    },
    {
      "cell_type": "markdown",
      "metadata": {
        "id": "sC7gYG67hEEi"
      },
      "source": [
        "## Examine data\n",
        "\n",
        "If our thesis is correct, similar colors should be near each other in the 3-dimensional RBG space.\n",
        "\n",
        "To visualize this we can plot the RBG components and verify that this is the case.\n",
        "\n",
        "Note that in the plot below, the full RGB triple is used to tell pandas/matplotlib what color to make each dot."
      ]
    },
    {
      "cell_type": "code",
      "execution_count": null,
      "metadata": {
        "colab": {
          "base_uri": "https://localhost:8080/"
        },
        "id": "4Q_cJb7BC-MO",
        "outputId": "d3d458aa-1cf5-4159-91d0-86c7bcd2b3aa"
      },
      "outputs": [
        {
          "output_type": "execute_result",
          "data": {
            "text/plain": [
              "2030"
            ]
          },
          "metadata": {},
          "execution_count": 18
        }
      ],
      "source": [
        "# how many data points?\n",
        "len(df_colors)"
      ]
    },
    {
      "cell_type": "code",
      "execution_count": null,
      "metadata": {
        "colab": {
          "base_uri": "https://localhost:8080/",
          "height": 206
        },
        "id": "XEhZjtLHcAZa",
        "outputId": "1bbe3c2c-1369-4aa8-eba0-c4f6d4b93ccb"
      },
      "outputs": [
        {
          "output_type": "execute_result",
          "data": {
            "text/plain": [
              "   red  green  blue\n",
              "0  233    197   146\n",
              "1  183     97    58\n",
              "2  188     84     7\n",
              "3  247    252   254\n",
              "4  248    253   253"
            ],
            "text/html": [
              "\n",
              "  <div id=\"df-96b4623f-78ff-4643-8867-72b1c493ce12\">\n",
              "    <div class=\"colab-df-container\">\n",
              "      <div>\n",
              "<style scoped>\n",
              "    .dataframe tbody tr th:only-of-type {\n",
              "        vertical-align: middle;\n",
              "    }\n",
              "\n",
              "    .dataframe tbody tr th {\n",
              "        vertical-align: top;\n",
              "    }\n",
              "\n",
              "    .dataframe thead th {\n",
              "        text-align: right;\n",
              "    }\n",
              "</style>\n",
              "<table border=\"1\" class=\"dataframe\">\n",
              "  <thead>\n",
              "    <tr style=\"text-align: right;\">\n",
              "      <th></th>\n",
              "      <th>red</th>\n",
              "      <th>green</th>\n",
              "      <th>blue</th>\n",
              "    </tr>\n",
              "  </thead>\n",
              "  <tbody>\n",
              "    <tr>\n",
              "      <th>0</th>\n",
              "      <td>233</td>\n",
              "      <td>197</td>\n",
              "      <td>146</td>\n",
              "    </tr>\n",
              "    <tr>\n",
              "      <th>1</th>\n",
              "      <td>183</td>\n",
              "      <td>97</td>\n",
              "      <td>58</td>\n",
              "    </tr>\n",
              "    <tr>\n",
              "      <th>2</th>\n",
              "      <td>188</td>\n",
              "      <td>84</td>\n",
              "      <td>7</td>\n",
              "    </tr>\n",
              "    <tr>\n",
              "      <th>3</th>\n",
              "      <td>247</td>\n",
              "      <td>252</td>\n",
              "      <td>254</td>\n",
              "    </tr>\n",
              "    <tr>\n",
              "      <th>4</th>\n",
              "      <td>248</td>\n",
              "      <td>253</td>\n",
              "      <td>253</td>\n",
              "    </tr>\n",
              "  </tbody>\n",
              "</table>\n",
              "</div>\n",
              "      <button class=\"colab-df-convert\" onclick=\"convertToInteractive('df-96b4623f-78ff-4643-8867-72b1c493ce12')\"\n",
              "              title=\"Convert this dataframe to an interactive table.\"\n",
              "              style=\"display:none;\">\n",
              "        \n",
              "  <svg xmlns=\"http://www.w3.org/2000/svg\" height=\"24px\"viewBox=\"0 0 24 24\"\n",
              "       width=\"24px\">\n",
              "    <path d=\"M0 0h24v24H0V0z\" fill=\"none\"/>\n",
              "    <path d=\"M18.56 5.44l.94 2.06.94-2.06 2.06-.94-2.06-.94-.94-2.06-.94 2.06-2.06.94zm-11 1L8.5 8.5l.94-2.06 2.06-.94-2.06-.94L8.5 2.5l-.94 2.06-2.06.94zm10 10l.94 2.06.94-2.06 2.06-.94-2.06-.94-.94-2.06-.94 2.06-2.06.94z\"/><path d=\"M17.41 7.96l-1.37-1.37c-.4-.4-.92-.59-1.43-.59-.52 0-1.04.2-1.43.59L10.3 9.45l-7.72 7.72c-.78.78-.78 2.05 0 2.83L4 21.41c.39.39.9.59 1.41.59.51 0 1.02-.2 1.41-.59l7.78-7.78 2.81-2.81c.8-.78.8-2.07 0-2.86zM5.41 20L4 18.59l7.72-7.72 1.47 1.35L5.41 20z\"/>\n",
              "  </svg>\n",
              "      </button>\n",
              "      \n",
              "  <style>\n",
              "    .colab-df-container {\n",
              "      display:flex;\n",
              "      flex-wrap:wrap;\n",
              "      gap: 12px;\n",
              "    }\n",
              "\n",
              "    .colab-df-convert {\n",
              "      background-color: #E8F0FE;\n",
              "      border: none;\n",
              "      border-radius: 50%;\n",
              "      cursor: pointer;\n",
              "      display: none;\n",
              "      fill: #1967D2;\n",
              "      height: 32px;\n",
              "      padding: 0 0 0 0;\n",
              "      width: 32px;\n",
              "    }\n",
              "\n",
              "    .colab-df-convert:hover {\n",
              "      background-color: #E2EBFA;\n",
              "      box-shadow: 0px 1px 2px rgba(60, 64, 67, 0.3), 0px 1px 3px 1px rgba(60, 64, 67, 0.15);\n",
              "      fill: #174EA6;\n",
              "    }\n",
              "\n",
              "    [theme=dark] .colab-df-convert {\n",
              "      background-color: #3B4455;\n",
              "      fill: #D2E3FC;\n",
              "    }\n",
              "\n",
              "    [theme=dark] .colab-df-convert:hover {\n",
              "      background-color: #434B5C;\n",
              "      box-shadow: 0px 1px 3px 1px rgba(0, 0, 0, 0.15);\n",
              "      filter: drop-shadow(0px 1px 2px rgba(0, 0, 0, 0.3));\n",
              "      fill: #FFFFFF;\n",
              "    }\n",
              "  </style>\n",
              "\n",
              "      <script>\n",
              "        const buttonEl =\n",
              "          document.querySelector('#df-96b4623f-78ff-4643-8867-72b1c493ce12 button.colab-df-convert');\n",
              "        buttonEl.style.display =\n",
              "          google.colab.kernel.accessAllowed ? 'block' : 'none';\n",
              "\n",
              "        async function convertToInteractive(key) {\n",
              "          const element = document.querySelector('#df-96b4623f-78ff-4643-8867-72b1c493ce12');\n",
              "          const dataTable =\n",
              "            await google.colab.kernel.invokeFunction('convertToInteractive',\n",
              "                                                     [key], {});\n",
              "          if (!dataTable) return;\n",
              "\n",
              "          const docLinkHtml = 'Like what you see? Visit the ' +\n",
              "            '<a target=\"_blank\" href=https://colab.research.google.com/notebooks/data_table.ipynb>data table notebook</a>'\n",
              "            + ' to learn more about interactive tables.';\n",
              "          element.innerHTML = '';\n",
              "          dataTable['output_type'] = 'display_data';\n",
              "          await google.colab.output.renderOutput(dataTable, element);\n",
              "          const docLink = document.createElement('div');\n",
              "          docLink.innerHTML = docLinkHtml;\n",
              "          element.appendChild(docLink);\n",
              "        }\n",
              "      </script>\n",
              "    </div>\n",
              "  </div>\n",
              "  "
            ]
          },
          "metadata": {},
          "execution_count": 19
        }
      ],
      "source": [
        "# what is in our DataFrame?\n",
        "df_colors.head()"
      ]
    },
    {
      "cell_type": "code",
      "execution_count": null,
      "metadata": {
        "colab": {
          "base_uri": "https://localhost:8080/",
          "height": 332
        },
        "id": "7adadJysAozT",
        "outputId": "5b2586ac-6389-4401-9377-52c921417fe9"
      },
      "outputs": [
        {
          "output_type": "stream",
          "name": "stderr",
          "text": [
            "<ipython-input-20-cade16f5dcd9>:4: MatplotlibDeprecationWarning: Calling gca() with keyword arguments was deprecated in Matplotlib 3.4. Starting two minor releases later, gca() will take no keyword arguments. The gca() function should only be used to get the current axes, or if no axes exist, create new axes with default keyword arguments. To create a new axes with non-default arguments, use plt.axes() or plt.subplot().\n",
            "  fig = plt.figure().gca(projection='3d')\n"
          ]
        },
        {
          "output_type": "execute_result",
          "data": {
            "text/plain": [
              "<mpl_toolkits.mplot3d.art3d.Path3DCollection at 0x7fd1cbaf7c40>"
            ]
          },
          "metadata": {},
          "execution_count": 20
        },
        {
          "output_type": "display_data",
          "data": {
            "text/plain": [
              "<Figure size 432x288 with 1 Axes>"
            ],
            "image/png": "[encoded data removed]"
          },
          "metadata": {
            "needs_background": "light"
          }
        }
      ],
      "source": [
        "# make a 3d scatter plot\n",
        "colors = np.array(df_colors.values)/256 # colors need to be (r,b,g) tuple in the range of 0-1\n",
        "\n",
        "fig = plt.figure().gca(projection='3d')\n",
        "fig.scatter(df_colors.red, df_colors.green, df_colors.blue, color=colors )"
      ]
    },
    {
      "cell_type": "markdown",
      "metadata": {
        "id": "iKTKmUYllvmx"
      },
      "source": [
        "### Exercise 1: Construct K-means model (4 points)\n",
        "\n",
        "Fit a KMeans model with 10 clusters.  Be sure to use a fixed `random_state` so that you get consistent results.\n",
        "\n",
        "Use the `predict` function to get the cluster predictions for each data point and add this to the `df_colors` DataFrame "
      ]
    },
    {
      "cell_type": "markdown",
      "metadata": {
        "id": "4UM_zK5UJZK4"
      },
      "source": [
        "##### Student Solution"
      ]
    },
    {
      "cell_type": "code",
      "execution_count": null,
      "metadata": {
        "id": "ROCne7e6JlKk",
        "colab": {
          "base_uri": "https://localhost:8080/",
          "height": 479
        },
        "outputId": "5de1c70f-5938-40fe-f69c-b4c2621eaaeb"
      },
      "outputs": [
        {
          "output_type": "stream",
          "name": "stderr",
          "text": [
            "/usr/local/lib/python3.9/dist-packages/sklearn/cluster/_kmeans.py:870: FutureWarning: The default value of `n_init` will change from 10 to 'auto' in 1.4. Set the value of `n_init` explicitly to suppress the warning\n",
            "  warnings.warn(\n"
          ]
        },
        {
          "output_type": "execute_result",
          "data": {
            "text/plain": [
              "      red  green  blue  cluster\n",
              "0     233    197   146        6\n",
              "1     183     97    58        3\n",
              "2     188     84     7        3\n",
              "3     247    252   254        2\n",
              "4     248    253   253        2\n",
              "...   ...    ...   ...      ...\n",
              "2025   27    123   141        9\n",
              "2026  194    193   198        6\n",
              "2027   41    113   197        9\n",
              "2028   35    114   197        9\n",
              "2029   27    123   141        9\n",
              "\n",
              "[2030 rows x 4 columns]"
            ],
            "text/html": [
              "\n",
              "  <div id=\"df-c300a119-bd96-4d61-9bd3-3fe56e596ea3\">\n",
              "    <div class=\"colab-df-container\">\n",
              "      <div>\n",
              "<style scoped>\n",
              "    .dataframe tbody tr th:only-of-type {\n",
              "        vertical-align: middle;\n",
              "    }\n",
              "\n",
              "    .dataframe tbody tr th {\n",
              "        vertical-align: top;\n",
              "    }\n",
              "\n",
              "    .dataframe thead th {\n",
              "        text-align: right;\n",
              "    }\n",
              "</style>\n",
              "<table border=\"1\" class=\"dataframe\">\n",
              "  <thead>\n",
              "    <tr style=\"text-align: right;\">\n",
              "      <th></th>\n",
              "      <th>red</th>\n",
              "      <th>green</th>\n",
              "      <th>blue</th>\n",
              "      <th>cluster</th>\n",
              "    </tr>\n",
              "  </thead>\n",
              "  <tbody>\n",
              "    <tr>\n",
              "      <th>0</th>\n",
              "      <td>233</td>\n",
              "      <td>197</td>\n",
              "      <td>146</td>\n",
              "      <td>6</td>\n",
              "    </tr>\n",
              "    <tr>\n",
              "      <th>1</th>\n",
              "      <td>183</td>\n",
              "      <td>97</td>\n",
              "      <td>58</td>\n",
              "      <td>3</td>\n",
              "    </tr>\n",
              "    <tr>\n",
              "      <th>2</th>\n",
              "      <td>188</td>\n",
              "      <td>84</td>\n",
              "      <td>7</td>\n",
              "      <td>3</td>\n",
              "    </tr>\n",
              "    <tr>\n",
              "      <th>3</th>\n",
              "      <td>247</td>\n",
              "      <td>252</td>\n",
              "      <td>254</td>\n",
              "      <td>2</td>\n",
              "    </tr>\n",
              "    <tr>\n",
              "      <th>4</th>\n",
              "      <td>248</td>\n",
              "      <td>253</td>\n",
              "      <td>253</td>\n",
              "      <td>2</td>\n",
              "    </tr>\n",
              "    <tr>\n",
              "      <th>...</th>\n",
              "      <td>...</td>\n",
              "      <td>...</td>\n",
              "      <td>...</td>\n",
              "      <td>...</td>\n",
              "    </tr>\n",
              "    <tr>\n",
              "      <th>2025</th>\n",
              "      <td>27</td>\n",
              "      <td>123</td>\n",
              "      <td>141</td>\n",
              "      <td>9</td>\n",
              "    </tr>\n",
              "    <tr>\n",
              "      <th>2026</th>\n",
              "      <td>194</td>\n",
              "      <td>193</td>\n",
              "      <td>198</td>\n",
              "      <td>6</td>\n",
              "    </tr>\n",
              "    <tr>\n",
              "      <th>2027</th>\n",
              "      <td>41</td>\n",
              "      <td>113</td>\n",
              "      <td>197</td>\n",
              "      <td>9</td>\n",
              "    </tr>\n",
              "    <tr>\n",
              "      <th>2028</th>\n",
              "      <td>35</td>\n",
              "      <td>114</td>\n",
              "      <td>197</td>\n",
              "      <td>9</td>\n",
              "    </tr>\n",
              "    <tr>\n",
              "      <th>2029</th>\n",
              "      <td>27</td>\n",
              "      <td>123</td>\n",
              "      <td>141</td>\n",
              "      <td>9</td>\n",
              "    </tr>\n",
              "  </tbody>\n",
              "</table>\n",
              "<p>2030 rows × 4 columns</p>\n",
              "</div>\n",
              "      <button class=\"colab-df-convert\" onclick=\"convertToInteractive('df-c300a119-bd96-4d61-9bd3-3fe56e596ea3')\"\n",
              "              title=\"Convert this dataframe to an interactive table.\"\n",
              "              style=\"display:none;\">\n",
              "        \n",
              "  <svg xmlns=\"http://www.w3.org/2000/svg\" height=\"24px\"viewBox=\"0 0 24 24\"\n",
              "       width=\"24px\">\n",
              "    <path d=\"M0 0h24v24H0V0z\" fill=\"none\"/>\n",
              "    <path d=\"M18.56 5.44l.94 2.06.94-2.06 2.06-.94-2.06-.94-.94-2.06-.94 2.06-2.06.94zm-11 1L8.5 8.5l.94-2.06 2.06-.94-2.06-.94L8.5 2.5l-.94 2.06-2.06.94zm10 10l.94 2.06.94-2.06 2.06-.94-2.06-.94-.94-2.06-.94 2.06-2.06.94z\"/><path d=\"M17.41 7.96l-1.37-1.37c-.4-.4-.92-.59-1.43-.59-.52 0-1.04.2-1.43.59L10.3 9.45l-7.72 7.72c-.78.78-.78 2.05 0 2.83L4 21.41c.39.39.9.59 1.41.59.51 0 1.02-.2 1.41-.59l7.78-7.78 2.81-2.81c.8-.78.8-2.07 0-2.86zM5.41 20L4 18.59l7.72-7.72 1.47 1.35L5.41 20z\"/>\n",
              "  </svg>\n",
              "      </button>\n",
              "      \n",
              "  <style>\n",
              "    .colab-df-container {\n",
              "      display:flex;\n",
              "      flex-wrap:wrap;\n",
              "      gap: 12px;\n",
              "    }\n",
              "\n",
              "    .colab-df-convert {\n",
              "      background-color: #E8F0FE;\n",
              "      border: none;\n",
              "      border-radius: 50%;\n",
              "      cursor: pointer;\n",
              "      display: none;\n",
              "      fill: #1967D2;\n",
              "      height: 32px;\n",
              "      padding: 0 0 0 0;\n",
              "      width: 32px;\n",
              "    }\n",
              "\n",
              "    .colab-df-convert:hover {\n",
              "      background-color: #E2EBFA;\n",
              "      box-shadow: 0px 1px 2px rgba(60, 64, 67, 0.3), 0px 1px 3px 1px rgba(60, 64, 67, 0.15);\n",
              "      fill: #174EA6;\n",
              "    }\n",
              "\n",
              "    [theme=dark] .colab-df-convert {\n",
              "      background-color: #3B4455;\n",
              "      fill: #D2E3FC;\n",
              "    }\n",
              "\n",
              "    [theme=dark] .colab-df-convert:hover {\n",
              "      background-color: #434B5C;\n",
              "      box-shadow: 0px 1px 3px 1px rgba(0, 0, 0, 0.15);\n",
              "      filter: drop-shadow(0px 1px 2px rgba(0, 0, 0, 0.3));\n",
              "      fill: #FFFFFF;\n",
              "    }\n",
              "  </style>\n",
              "\n",
              "      <script>\n",
              "        const buttonEl =\n",
              "          document.querySelector('#df-c300a119-bd96-4d61-9bd3-3fe56e596ea3 button.colab-df-convert');\n",
              "        buttonEl.style.display =\n",
              "          google.colab.kernel.accessAllowed ? 'block' : 'none';\n",
              "\n",
              "        async function convertToInteractive(key) {\n",
              "          const element = document.querySelector('#df-c300a119-bd96-4d61-9bd3-3fe56e596ea3');\n",
              "          const dataTable =\n",
              "            await google.colab.kernel.invokeFunction('convertToInteractive',\n",
              "                                                     [key], {});\n",
              "          if (!dataTable) return;\n",
              "\n",
              "          const docLinkHtml = 'Like what you see? Visit the ' +\n",
              "            '<a target=\"_blank\" href=https://colab.research.google.com/notebooks/data_table.ipynb>data table notebook</a>'\n",
              "            + ' to learn more about interactive tables.';\n",
              "          element.innerHTML = '';\n",
              "          dataTable['output_type'] = 'display_data';\n",
              "          await google.colab.output.renderOutput(dataTable, element);\n",
              "          const docLink = document.createElement('div');\n",
              "          docLink.innerHTML = docLinkHtml;\n",
              "          element.appendChild(docLink);\n",
              "        }\n",
              "      </script>\n",
              "    </div>\n",
              "  </div>\n",
              "  "
            ]
          },
          "metadata": {},
          "execution_count": 21
        }
      ],
      "source": [
        "n_clusters = 10\n",
        "random_state = 10  # makes sure you get the same results each time\n",
        "\n",
        "## get np array for RBG values\n",
        "X = np.array(df_colors.values)\n",
        "\n",
        "\n",
        "def fit_kmeans(X, n_clusters, random_state):\n",
        "  ## YOUR CODE HERE ## \n",
        "  model = KMeans(n_clusters=n_clusters, random_state=random_state).fit(X)\n",
        "  return model\n",
        "\n",
        "model = fit_kmeans(X, n_clusters, random_state)\n",
        "\n",
        "## get cluster prediction and add to DataFrame\n",
        "df_colors['cluster'] = model.predict(X)\n",
        "df_colors\n"
      ]
    },
    {
      "cell_type": "markdown",
      "metadata": {
        "id": "ZboSuE-Gd9Zh"
      },
      "source": [
        "## Visualize results for K-means clustering\n"
      ]
    },
    {
      "cell_type": "markdown",
      "metadata": {
        "id": "PtsNYYLSe_D1"
      },
      "source": [
        "### Exercise 2: Plot a histogram of the distribution of clusters (4 points)\n",
        "\n",
        "Since there are 10 clusters, using the `pandas.DataFrame.hist()` will render the correct distribution of values across each bin since 10 is the default number of bins.\n",
        "\n",
        "Make sure that your visual output also matches the output of `Series.value_counts()`\n"
      ]
    },
    {
      "cell_type": "markdown",
      "metadata": {
        "id": "asvG7XGwKKHS"
      },
      "source": [
        "##### Student Solution"
      ]
    },
    {
      "cell_type": "code",
      "execution_count": null,
      "metadata": {
        "id": "gwPsVEGGKGSr",
        "colab": {
          "base_uri": "https://localhost:8080/",
          "height": 477
        },
        "outputId": "fb1bc7bc-06a4-4fe5-e2c6-0feb7143ce17"
      },
      "outputs": [
        {
          "output_type": "execute_result",
          "data": {
            "text/plain": [
              "2    399\n",
              "0    338\n",
              "6    244\n",
              "8    201\n",
              "9    194\n",
              "4    181\n",
              "3    151\n",
              "5    119\n",
              "7    115\n",
              "1     88\n",
              "Name: cluster, dtype: int64"
            ]
          },
          "metadata": {},
          "execution_count": 29
        },
        {
          "output_type": "display_data",
          "data": {
            "text/plain": [
              "<Figure size 432x288 with 1 Axes>"
            ],
            "image/png": "[encoded data removed]"
          },
          "metadata": {
            "needs_background": "light"
          }
        }
      ],
      "source": [
        "## plot histogram and print out number of points in each color cluster\n",
        "\n",
        "## YOUR CODE HERE ## \n",
        "df_colors.hist(column='cluster')\n",
        "df_colors['cluster'].value_counts()"
      ]
    },
    {
      "cell_type": "markdown",
      "metadata": {
        "id": "wcgxW7trbt4p"
      },
      "source": [
        "### Examine results of clustering"
      ]
    },
    {
      "cell_type": "code",
      "execution_count": null,
      "metadata": {
        "id": "8sw287rQb0lo",
        "colab": {
          "base_uri": "https://localhost:8080/",
          "height": 297
        },
        "outputId": "1a59f184-b914-4283-8217-b8425930cbb1"
      },
      "outputs": [
        {
          "output_type": "execute_result",
          "data": {
            "text/plain": [
              "<AxesSubplot:xlabel='index', ylabel='cluster'>"
            ]
          },
          "metadata": {},
          "execution_count": 30
        },
        {
          "output_type": "display_data",
          "data": {
            "text/plain": [
              "<Figure size 432x288 with 1 Axes>"
            ],
            "image/png": "[encoded data removed]"
          },
          "metadata": {
            "needs_background": "light"
          }
        }
      ],
      "source": [
        "# take a look at distribution of colors - only the first 500 for clarity\n",
        "df_colors[:500].reset_index(drop=False).plot(x='index', y='cluster', kind='scatter', color=colors[:500])"
      ]
    },
    {
      "cell_type": "markdown",
      "metadata": {
        "id": "c0mBWkg2cUcj"
      },
      "source": [
        "### Exercise 3: Establish some human-readable names for your clusters like red, blue, yellow, etc. (4 points)\n",
        "\n",
        "\n"
      ]
    },
    {
      "cell_type": "markdown",
      "metadata": {
        "id": "RH5gMTLkKgeb"
      },
      "source": [
        "##### Student Solution"
      ]
    },
    {
      "cell_type": "code",
      "execution_count": null,
      "metadata": {
        "colab": {
          "base_uri": "https://localhost:8080/"
        },
        "id": "Nn-zY57rcYFn",
        "outputId": "08668222-6027-4b99-9eeb-77a4df0eb7cf"
      },
      "outputs": [
        {
          "output_type": "execute_result",
          "data": {
            "text/plain": [
              "{0: 'black',\n",
              " 1: 'light blue',\n",
              " 2: 'gray',\n",
              " 3: 'red',\n",
              " 4: 'brown',\n",
              " 5: 'yellow',\n",
              " 6: 'misc light colors',\n",
              " 7: 'dark blue',\n",
              " 8: 'misc dark colors',\n",
              " 9: 'grayish blue'}"
            ]
          },
          "metadata": {},
          "execution_count": 31
        }
      ],
      "source": [
        "# name your clusters\n",
        "\n",
        "## YOUR CODE HERE ## \n",
        "\n",
        "color_dict = {\n",
        "    0:'black', \n",
        "    1:'light blue', \n",
        "    2:'gray',\n",
        "    3:'red',\n",
        "    4:'brown',\n",
        "    5:'yellow',\n",
        "    6:'misc light colors',\n",
        "    7:'dark blue',\n",
        "    8:'misc dark colors',\n",
        "    9:'grayish blue',\n",
        "}\n",
        "\n",
        "color_dict"
      ]
    },
    {
      "cell_type": "markdown",
      "metadata": {
        "id": "hqygpwqUcjuL"
      },
      "source": [
        "### Exercise 4: Determine the centroids of the clusters (4 points)\n"
      ]
    },
    {
      "cell_type": "markdown",
      "metadata": {
        "id": "4M2FoubOLeTe"
      },
      "source": [
        "##### Student Solution"
      ]
    },
    {
      "cell_type": "code",
      "execution_count": null,
      "metadata": {
        "id": "O0ppzlJSLnBV",
        "colab": {
          "base_uri": "https://localhost:8080/",
          "height": 363
        },
        "outputId": "faa553b5-5ff8-4df5-d7d4-c8e8ca0fb47f"
      },
      "outputs": [
        {
          "output_type": "execute_result",
          "data": {
            "text/plain": [
              "   cluster         red       green        blue\n",
              "0        0   13.742604   12.257396   16.142012\n",
              "1        1  117.681818  203.022727  228.022727\n",
              "2        2  244.112782  246.619048  246.125313\n",
              "3        3  192.655629   29.589404   38.801325\n",
              "4        4  105.696133   88.132597   85.563536\n",
              "5        5  224.605042  181.310924   42.067227\n",
              "6        6  184.586066  176.512295  159.073770\n",
              "7        7    5.408696   84.852174  195.191304\n",
              "8        8   47.965174   65.422886   46.383085\n",
              "9        9   58.288660  131.829897  179.896907"
            ],
            "text/html": [
              "\n",
              "  <div id=\"df-4c43bd85-d536-49cc-9357-cc544c329056\">\n",
              "    <div class=\"colab-df-container\">\n",
              "      <div>\n",
              "<style scoped>\n",
              "    .dataframe tbody tr th:only-of-type {\n",
              "        vertical-align: middle;\n",
              "    }\n",
              "\n",
              "    .dataframe tbody tr th {\n",
              "        vertical-align: top;\n",
              "    }\n",
              "\n",
              "    .dataframe thead th {\n",
              "        text-align: right;\n",
              "    }\n",
              "</style>\n",
              "<table border=\"1\" class=\"dataframe\">\n",
              "  <thead>\n",
              "    <tr style=\"text-align: right;\">\n",
              "      <th></th>\n",
              "      <th>cluster</th>\n",
              "      <th>red</th>\n",
              "      <th>green</th>\n",
              "      <th>blue</th>\n",
              "    </tr>\n",
              "  </thead>\n",
              "  <tbody>\n",
              "    <tr>\n",
              "      <th>0</th>\n",
              "      <td>0</td>\n",
              "      <td>13.742604</td>\n",
              "      <td>12.257396</td>\n",
              "      <td>16.142012</td>\n",
              "    </tr>\n",
              "    <tr>\n",
              "      <th>1</th>\n",
              "      <td>1</td>\n",
              "      <td>117.681818</td>\n",
              "      <td>203.022727</td>\n",
              "      <td>228.022727</td>\n",
              "    </tr>\n",
              "    <tr>\n",
              "      <th>2</th>\n",
              "      <td>2</td>\n",
              "      <td>244.112782</td>\n",
              "      <td>246.619048</td>\n",
              "      <td>246.125313</td>\n",
              "    </tr>\n",
              "    <tr>\n",
              "      <th>3</th>\n",
              "      <td>3</td>\n",
              "      <td>192.655629</td>\n",
              "      <td>29.589404</td>\n",
              "      <td>38.801325</td>\n",
              "    </tr>\n",
              "    <tr>\n",
              "      <th>4</th>\n",
              "      <td>4</td>\n",
              "      <td>105.696133</td>\n",
              "      <td>88.132597</td>\n",
              "      <td>85.563536</td>\n",
              "    </tr>\n",
              "    <tr>\n",
              "      <th>5</th>\n",
              "      <td>5</td>\n",
              "      <td>224.605042</td>\n",
              "      <td>181.310924</td>\n",
              "      <td>42.067227</td>\n",
              "    </tr>\n",
              "    <tr>\n",
              "      <th>6</th>\n",
              "      <td>6</td>\n",
              "      <td>184.586066</td>\n",
              "      <td>176.512295</td>\n",
              "      <td>159.073770</td>\n",
              "    </tr>\n",
              "    <tr>\n",
              "      <th>7</th>\n",
              "      <td>7</td>\n",
              "      <td>5.408696</td>\n",
              "      <td>84.852174</td>\n",
              "      <td>195.191304</td>\n",
              "    </tr>\n",
              "    <tr>\n",
              "      <th>8</th>\n",
              "      <td>8</td>\n",
              "      <td>47.965174</td>\n",
              "      <td>65.422886</td>\n",
              "      <td>46.383085</td>\n",
              "    </tr>\n",
              "    <tr>\n",
              "      <th>9</th>\n",
              "      <td>9</td>\n",
              "      <td>58.288660</td>\n",
              "      <td>131.829897</td>\n",
              "      <td>179.896907</td>\n",
              "    </tr>\n",
              "  </tbody>\n",
              "</table>\n",
              "</div>\n",
              "      <button class=\"colab-df-convert\" onclick=\"convertToInteractive('df-4c43bd85-d536-49cc-9357-cc544c329056')\"\n",
              "              title=\"Convert this dataframe to an interactive table.\"\n",
              "              style=\"display:none;\">\n",
              "        \n",
              "  <svg xmlns=\"http://www.w3.org/2000/svg\" height=\"24px\"viewBox=\"0 0 24 24\"\n",
              "       width=\"24px\">\n",
              "    <path d=\"M0 0h24v24H0V0z\" fill=\"none\"/>\n",
              "    <path d=\"M18.56 5.44l.94 2.06.94-2.06 2.06-.94-2.06-.94-.94-2.06-.94 2.06-2.06.94zm-11 1L8.5 8.5l.94-2.06 2.06-.94-2.06-.94L8.5 2.5l-.94 2.06-2.06.94zm10 10l.94 2.06.94-2.06 2.06-.94-2.06-.94-.94-2.06-.94 2.06-2.06.94z\"/><path d=\"M17.41 7.96l-1.37-1.37c-.4-.4-.92-.59-1.43-.59-.52 0-1.04.2-1.43.59L10.3 9.45l-7.72 7.72c-.78.78-.78 2.05 0 2.83L4 21.41c.39.39.9.59 1.41.59.51 0 1.02-.2 1.41-.59l7.78-7.78 2.81-2.81c.8-.78.8-2.07 0-2.86zM5.41 20L4 18.59l7.72-7.72 1.47 1.35L5.41 20z\"/>\n",
              "  </svg>\n",
              "      </button>\n",
              "      \n",
              "  <style>\n",
              "    .colab-df-container {\n",
              "      display:flex;\n",
              "      flex-wrap:wrap;\n",
              "      gap: 12px;\n",
              "    }\n",
              "\n",
              "    .colab-df-convert {\n",
              "      background-color: #E8F0FE;\n",
              "      border: none;\n",
              "      border-radius: 50%;\n",
              "      cursor: pointer;\n",
              "      display: none;\n",
              "      fill: #1967D2;\n",
              "      height: 32px;\n",
              "      padding: 0 0 0 0;\n",
              "      width: 32px;\n",
              "    }\n",
              "\n",
              "    .colab-df-convert:hover {\n",
              "      background-color: #E2EBFA;\n",
              "      box-shadow: 0px 1px 2px rgba(60, 64, 67, 0.3), 0px 1px 3px 1px rgba(60, 64, 67, 0.15);\n",
              "      fill: #174EA6;\n",
              "    }\n",
              "\n",
              "    [theme=dark] .colab-df-convert {\n",
              "      background-color: #3B4455;\n",
              "      fill: #D2E3FC;\n",
              "    }\n",
              "\n",
              "    [theme=dark] .colab-df-convert:hover {\n",
              "      background-color: #434B5C;\n",
              "      box-shadow: 0px 1px 3px 1px rgba(0, 0, 0, 0.15);\n",
              "      filter: drop-shadow(0px 1px 2px rgba(0, 0, 0, 0.3));\n",
              "      fill: #FFFFFF;\n",
              "    }\n",
              "  </style>\n",
              "\n",
              "      <script>\n",
              "        const buttonEl =\n",
              "          document.querySelector('#df-4c43bd85-d536-49cc-9357-cc544c329056 button.colab-df-convert');\n",
              "        buttonEl.style.display =\n",
              "          google.colab.kernel.accessAllowed ? 'block' : 'none';\n",
              "\n",
              "        async function convertToInteractive(key) {\n",
              "          const element = document.querySelector('#df-4c43bd85-d536-49cc-9357-cc544c329056');\n",
              "          const dataTable =\n",
              "            await google.colab.kernel.invokeFunction('convertToInteractive',\n",
              "                                                     [key], {});\n",
              "          if (!dataTable) return;\n",
              "\n",
              "          const docLinkHtml = 'Like what you see? Visit the ' +\n",
              "            '<a target=\"_blank\" href=https://colab.research.google.com/notebooks/data_table.ipynb>data table notebook</a>'\n",
              "            + ' to learn more about interactive tables.';\n",
              "          element.innerHTML = '';\n",
              "          dataTable['output_type'] = 'display_data';\n",
              "          await google.colab.output.renderOutput(dataTable, element);\n",
              "          const docLink = document.createElement('div');\n",
              "          docLink.innerHTML = docLinkHtml;\n",
              "          element.appendChild(docLink);\n",
              "        }\n",
              "      </script>\n",
              "    </div>\n",
              "  </div>\n",
              "  "
            ]
          },
          "metadata": {},
          "execution_count": 49
        }
      ],
      "source": [
        "# get centroids\n",
        "\n",
        "## YOUR CODE HERE ## \n",
        "centroids = df_colors.groupby(by='cluster').mean().reset_index()\n",
        "\n",
        "centroids"
      ]
    },
    {
      "cell_type": "markdown",
      "metadata": {
        "id": "4vxCLwk1czBJ"
      },
      "source": [
        "### Exercise 5: Write a function that makes the best guess of an RGB triple based on the centroids (4 points)\n",
        "\n",
        "The  [`KMeans.predict()`](https://scikit-learn.org/stable/modules/generated/sklearn.cluster.KMeans.html#sklearn.cluster.KMeans.predict) function predicts the cluster of any test data point by returning the cluster whose center is closest to the test data point.\n",
        "\n",
        "Without using `predict()` write a function that guesses the color of an RBG triple by finding the nearest centroid.\n",
        "\n",
        "There are many ways to calculate distance.  For this exercise it is sufficient to use a simple Euclidean distance formula.\n"
      ]
    },
    {
      "cell_type": "markdown",
      "metadata": {
        "id": "NGiSb93cghfC"
      },
      "source": [
        "##### Student Solution"
      ]
    },
    {
      "cell_type": "code",
      "execution_count": null,
      "metadata": {
        "id": "Ocw4OTu2c2DF",
        "colab": {
          "base_uri": "https://localhost:8080/"
        },
        "outputId": "1a864aa8-6ed0-472c-d841-62aa210fef08"
      },
      "outputs": [
        {
          "output_type": "stream",
          "name": "stdout",
          "text": [
            "red\n"
          ]
        }
      ],
      "source": [
        "## your color guessing function\n",
        "def guess_color(centroids, color_dict, test_color):\n",
        "\n",
        "  ## YOUR CODE HERE ## \n",
        "  min_dist = np.Inf\n",
        "  min_centroid = 0\n",
        "  for centroid_index in centroids['cluster'].to_numpy():\n",
        "      centroid = centroids.iloc[centroid_index].to_numpy()[1:]\n",
        "      dist = np.linalg.norm(test_color - centroid)\n",
        "      if dist < min_dist:\n",
        "          min_dist = dist\n",
        "          min_centroid = centroid_index\n",
        "  color_name = color_dict[min_centroid]\n",
        "  return color_name\n",
        "\n",
        "color1 = [200, 5, 5]  # approximately red \n",
        "print(guess_color(centroids=centroids, color_dict=color_dict, test_color=color1))"
      ]
    },
    {
      "cell_type": "markdown",
      "metadata": {
        "id": "Ffx7sbNMfe4u"
      },
      "source": [
        "### Exercise 6: Write a function that returns the colors name based on the `predict()` function (4 points)\n"
      ]
    },
    {
      "cell_type": "code",
      "execution_count": null,
      "metadata": {
        "id": "vwJN1DUQfrD_",
        "colab": {
          "base_uri": "https://localhost:8080/"
        },
        "outputId": "1948d4bb-978c-47ad-9672-54a80ff39cc5"
      },
      "outputs": [
        {
          "output_type": "stream",
          "name": "stdout",
          "text": [
            "red\n"
          ]
        }
      ],
      "source": [
        "def predict_color(model, color_dict, test_color):\n",
        "\n",
        "    ## YOUR CODE HERE ## \n",
        "    index = model.predict([test_color]).item()\n",
        "    color_name = color_dict[index]\n",
        "    return color_name\n",
        "\n",
        "color1 = [200, 5, 5] # approximately red \n",
        "print(predict_color(model=model, color_dict=color_dict, test_color=color1))"
      ]
    },
    {
      "cell_type": "markdown",
      "metadata": {
        "id": "niUwnKpZhFeP"
      },
      "source": [
        "### Exercise 7: Explainability - make some visual output to show that your guesses worked (4 points)\n",
        "\n",
        "It is very important in data sceince, when possible, to have a \"visual confirmation\" that our code is working.  Think of this as an explainability exercise where you need to vefiry that your code it working.\n",
        "\n",
        "Use `matplotlib` to make some visual out to verify that `color1` is indeed RED.\n",
        "\n",
        "Here is an example, but anything that shows the color in a programmatic way is fine.\n",
        "\n",
        "![red.png](data:image/png;base64,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)\n",
        "\n",
        "\n"
      ]
    },
    {
      "cell_type": "code",
      "execution_count": null,
      "metadata": {
        "id": "U-ZJuciof8s8",
        "colab": {
          "base_uri": "https://localhost:8080/",
          "height": 163
        },
        "outputId": "20b54629-801f-42c0-8c8e-e262aac3fecc"
      },
      "outputs": [
        {
          "output_type": "display_data",
          "data": {
            "text/plain": [
              "<PIL.Image.Image image mode=RGB size=128x128 at 0x7FD18D6B4AF0>"
            ],
            "image/png": "[encoded data removed]"
          },
          "metadata": {}
        },
        {
          "output_type": "stream",
          "name": "stdout",
          "text": [
            "Guessed Color: red\n"
          ]
        }
      ],
      "source": [
        "from PIL import Image\n",
        "\n",
        "def show_color(test_color, color_name):\n",
        "    pixels = np.zeros([128, 128, 3], dtype=np.uint8)\n",
        "    pixels[:,:] = test_color\n",
        "    img = Image.fromarray(pixels, mode='RGB')\n",
        "    img.show()\n",
        "    print(\"Guessed Color: \" + str(color_name))\n",
        "\n",
        "\n",
        "color1 = [200, 5, 5] # approximately red \n",
        "color1_name = guess_color(centroids=centroids, color_dict=color_dict, test_color=color1)\n",
        "show_color(color1, color1_name)"
      ]
    },
    {
      "cell_type": "markdown",
      "metadata": {
        "id": "_wmPs6IFlPV0"
      },
      "source": [
        "### Exercise 8: Check a range of colors (4 points)\n",
        " \n",
        "Given the list of `test_colors`, predict the colors using your `guess_color` function\n",
        "\n",
        "Comment on how good the guesses are.  Are there any unexcepted results? \n"
      ]
    },
    {
      "cell_type": "code",
      "execution_count": null,
      "metadata": {
        "id": "kSvZ6Y1uByd4"
      },
      "outputs": [],
      "source": [
        "## generate test colors\n",
        "def make_test_colors(n=3):\n",
        "  test_colors = list()\n",
        "  for rr in range(n+1):\n",
        "    for gg in range(n+1):\n",
        "      for bb in range(n+1):\n",
        "        red = int(rr/n*255)\n",
        "        green = int(gg/n*255)\n",
        "        blue = int(bb/n*255)\n",
        "\n",
        "        color = [red, green, blue]\n",
        "        test_colors.append(color)\n",
        "  test_colors = np.array(test_colors)\n",
        "  return test_colors\n"
      ]
    },
    {
      "cell_type": "code",
      "execution_count": null,
      "metadata": {
        "id": "qz3UN4kTDdof",
        "colab": {
          "base_uri": "https://localhost:8080/",
          "height": 1000
        },
        "outputId": "1ba9f47e-5879-492f-e40d-dd6c07ac9b11"
      },
      "outputs": [
        {
          "output_type": "display_data",
          "data": {
            "text/plain": [
              "<PIL.Image.Image image mode=RGB size=128x128 at 0x7FD18D543E80>"
            ],
            "image/png": "[encoded data removed]"
          },
          "metadata": {}
        },
        {
          "output_type": "stream",
          "name": "stdout",
          "text": [
            "Guessed Color: black\n"
          ]
        },
        {
          "output_type": "display_data",
          "data": {
            "text/plain": [
              "<PIL.Image.Image image mode=RGB size=128x128 at 0x7FD18D543A00>"
            ],
            "image/png": "[encoded data removed]"
          },
          "metadata": {}
        },
        {
          "output_type": "stream",
          "name": "stdout",
          "text": [
            "Guessed Color: black\n"
          ]
        },
        {
          "output_type": "display_data",
          "data": {
            "text/plain": [
              "<PIL.Image.Image image mode=RGB size=128x128 at 0x7FD18D543730>"
            ],
            "image/png": "[encoded data removed]"
          },
          "metadata": {}
        },
        {
          "output_type": "stream",
          "name": "stdout",
          "text": [
            "Guessed Color: dark blue\n"
          ]
        },
        {
          "output_type": "display_data",
          "data": {
            "text/plain": [
              "<PIL.Image.Image image mode=RGB size=128x128 at 0x7FD18D5439A0>"
            ],
            "image/png": "[encoded data removed]"
          },
          "metadata": {}
        },
        {
          "output_type": "stream",
          "name": "stdout",
          "text": [
            "Guessed Color: dark blue\n"
          ]
        },
        {
          "output_type": "display_data",
          "data": {
            "text/plain": [
              "<PIL.Image.Image image mode=RGB size=128x128 at 0x7FD18D543E80>"
            ],
            "image/png": "[encoded data removed]"
          },
          "metadata": {}
        },
        {
          "output_type": "stream",
          "name": "stdout",
          "text": [
            "Guessed Color: misc dark colors\n"
          ]
        },
        {
          "output_type": "display_data",
          "data": {
            "text/plain": [
              "<PIL.Image.Image image mode=RGB size=128x128 at 0x7FD18D543A00>"
            ],
            "image/png": "[encoded data removed]"
          },
          "metadata": {}
        },
        {
          "output_type": "stream",
          "name": "stdout",
          "text": [
            "Guessed Color: misc dark colors\n"
          ]
        },
        {
          "output_type": "display_data",
          "data": {
            "text/plain": [
              "<PIL.Image.Image image mode=RGB size=128x128 at 0x7FD18D543730>"
            ],
            "image/png": "[encoded data removed]"
          },
          "metadata": {}
        },
        {
          "output_type": "stream",
          "name": "stdout",
          "text": [
            "Guessed Color: dark blue\n"
          ]
        },
        {
          "output_type": "display_data",
          "data": {
            "text/plain": [
              "<PIL.Image.Image image mode=RGB size=128x128 at 0x7FD18D5439A0>"
            ],
            "image/png": "[encoded data removed]"
          },
          "metadata": {}
        },
        {
          "output_type": "stream",
          "name": "stdout",
          "text": [
            "Guessed Color: dark blue\n"
          ]
        },
        {
          "output_type": "display_data",
          "data": {
            "text/plain": [
              "<PIL.Image.Image image mode=RGB size=128x128 at 0x7FD18D543E80>"
            ],
            "image/png": "[encoded data removed]"
          },
          "metadata": {}
        },
        {
          "output_type": "stream",
          "name": "stdout",
          "text": [
            "Guessed Color: misc dark colors\n"
          ]
        },
        {
          "output_type": "display_data",
          "data": {
            "text/plain": [
              "<PIL.Image.Image image mode=RGB size=128x128 at 0x7FD18D543A00>"
            ],
            "image/png": "[encoded data removed]"
          },
          "metadata": {}
        },
        {
          "output_type": "stream",
          "name": "stdout",
          "text": [
            "Guessed Color: grayish blue\n"
          ]
        },
        {
          "output_type": "display_data",
          "data": {
            "text/plain": [
              "<PIL.Image.Image image mode=RGB size=128x128 at 0x7FD18D543730>"
            ],
            "image/png": "[encoded data removed]"
          },
          "metadata": {}
        },
        {
          "output_type": "stream",
          "name": "stdout",
          "text": [
            "Guessed Color: grayish blue\n"
          ]
        },
        {
          "output_type": "display_data",
          "data": {
            "text/plain": [
              "<PIL.Image.Image image mode=RGB size=128x128 at 0x7FD18D5439A0>"
            ],
            "image/png": "[encoded data removed]"
          },
          "metadata": {}
        },
        {
          "output_type": "stream",
          "name": "stdout",
          "text": [
            "Guessed Color: grayish blue\n"
          ]
        },
        {
          "output_type": "display_data",
          "data": {
            "text/plain": [
              "<PIL.Image.Image image mode=RGB size=128x128 at 0x7FD18D543E80>"
            ],
            "image/png": "[encoded data removed]"
          },
          "metadata": {}
        },
        {
          "output_type": "stream",
          "name": "stdout",
          "text": [
            "Guessed Color: misc dark colors\n"
          ]
        },
        {
          "output_type": "display_data",
          "data": {
            "text/plain": [
              "<PIL.Image.Image image mode=RGB size=128x128 at 0x7FD18D543A00>"
            ],
            "image/png": "[encoded data removed]"
          },
          "metadata": {}
        },
        {
          "output_type": "stream",
          "name": "stdout",
          "text": [
            "Guessed Color: grayish blue\n"
          ]
        },
        {
          "output_type": "display_data",
          "data": {
            "text/plain": [
              "<PIL.Image.Image image mode=RGB size=128x128 at 0x7FD18D543730>"
            ],
            "image/png": "[encoded data removed]"
          },
          "metadata": {}
        },
        {
          "output_type": "stream",
          "name": "stdout",
          "text": [
            "Guessed Color: grayish blue\n"
          ]
        },
        {
          "output_type": "display_data",
          "data": {
            "text/plain": [
              "<PIL.Image.Image image mode=RGB size=128x128 at 0x7FD18D5439A0>"
            ],
            "image/png": "[encoded data removed]"
          },
          "metadata": {}
        },
        {
          "output_type": "stream",
          "name": "stdout",
          "text": [
            "Guessed Color: light blue\n"
          ]
        },
        {
          "output_type": "display_data",
          "data": {
            "text/plain": [
              "<PIL.Image.Image image mode=RGB size=128x128 at 0x7FD18D543E80>"
            ],
            "image/png": "[encoded data removed]"
          },
          "metadata": {}
        },
        {
          "output_type": "stream",
          "name": "stdout",
          "text": [
            "Guessed Color: black\n"
          ]
        },
        {
          "output_type": "display_data",
          "data": {
            "text/plain": [
              "<PIL.Image.Image image mode=RGB size=128x128 at 0x7FD18D543A00>"
            ],
            "image/png": "[encoded data removed]"
          },
          "metadata": {}
        },
        {
          "output_type": "stream",
          "name": "stdout",
          "text": [
            "Guessed Color: misc dark colors\n"
          ]
        },
        {
          "output_type": "display_data",
          "data": {
            "text/plain": [
              "<PIL.Image.Image image mode=RGB size=128x128 at 0x7FD18D543730>"
            ],
            "image/png": "[encoded data removed]"
          },
          "metadata": {}
        },
        {
          "output_type": "stream",
          "name": "stdout",
          "text": [
            "Guessed Color: dark blue\n"
          ]
        },
        {
          "output_type": "display_data",
          "data": {
            "text/plain": [
              "<PIL.Image.Image image mode=RGB size=128x128 at 0x7FD18D5439A0>"
            ],
            "image/png": "[encoded data removed]"
          },
          "metadata": {}
        },
        {
          "output_type": "stream",
          "name": "stdout",
          "text": [
            "Guessed Color: dark blue\n"
          ]
        },
        {
          "output_type": "display_data",
          "data": {
            "text/plain": [
              "<PIL.Image.Image image mode=RGB size=128x128 at 0x7FD18D543E80>"
            ],
            "image/png": "[encoded data removed]"
          },
          "metadata": {}
        },
        {
          "output_type": "stream",
          "name": "stdout",
          "text": [
            "Guessed Color: misc dark colors\n"
          ]
        },
        {
          "output_type": "display_data",
          "data": {
            "text/plain": [
              "<PIL.Image.Image image mode=RGB size=128x128 at 0x7FD18E0DF4F0>"
            ],
            "image/png": "[encoded data removed]"
          },
          "metadata": {}
        },
        {
          "output_type": "stream",
          "name": "stdout",
          "text": [
            "Guessed Color: brown\n"
          ]
        },
        {
          "output_type": "display_data",
          "data": {
            "text/plain": [
              "<PIL.Image.Image image mode=RGB size=128x128 at 0x7FD18E0DF4F0>"
            ],
            "image/png": "[encoded data removed]"
          },
          "metadata": {}
        },
        {
          "output_type": "stream",
          "name": "stdout",
          "text": [
            "Guessed Color: grayish blue\n"
          ]
        },
        {
          "output_type": "display_data",
          "data": {
            "text/plain": [
              "<PIL.Image.Image image mode=RGB size=128x128 at 0x7FD18E0DF4F0>"
            ],
            "image/png": "[encoded data removed]"
          },
          "metadata": {}
        },
        {
          "output_type": "stream",
          "name": "stdout",
          "text": [
            "Guessed Color: grayish blue\n"
          ]
        },
        {
          "output_type": "display_data",
          "data": {
            "text/plain": [
              "<PIL.Image.Image image mode=RGB size=128x128 at 0x7FD18E0DF4F0>"
            ],
            "image/png": "[encoded data removed]"
          },
          "metadata": {}
        },
        {
          "output_type": "stream",
          "name": "stdout",
          "text": [
            "Guessed Color: brown\n"
          ]
        },
        {
          "output_type": "display_data",
          "data": {
            "text/plain": [
              "<PIL.Image.Image image mode=RGB size=128x128 at 0x7FD18E0DF4F0>"
            ],
            "image/png": "[encoded data removed]"
          },
          "metadata": {}
        },
        {
          "output_type": "stream",
          "name": "stdout",
          "text": [
            "Guessed Color: brown\n"
          ]
        },
        {
          "output_type": "display_data",
          "data": {
            "text/plain": [
              "<PIL.Image.Image image mode=RGB size=128x128 at 0x7FD18E0DF4F0>"
            ],
            "image/png": "[encoded data removed]"
          },
          "metadata": {}
        },
        {
          "output_type": "stream",
          "name": "stdout",
          "text": [
            "Guessed Color: grayish blue\n"
          ]
        },
        {
          "output_type": "display_data",
          "data": {
            "text/plain": [
              "<PIL.Image.Image image mode=RGB size=128x128 at 0x7FD18E0DF5E0>"
            ],
            "image/png": "[encoded data removed]"
          },
          "metadata": {}
        },
        {
          "output_type": "stream",
          "name": "stdout",
          "text": [
            "Guessed Color: light blue\n"
          ]
        },
        {
          "output_type": "display_data",
          "data": {
            "text/plain": [
              "<PIL.Image.Image image mode=RGB size=128x128 at 0x7FD18E0DF5E0>"
            ],
            "image/png": "[encoded data removed]"
          },
          "metadata": {}
        },
        {
          "output_type": "stream",
          "name": "stdout",
          "text": [
            "Guessed Color: yellow\n"
          ]
        },
        {
          "output_type": "display_data",
          "data": {
            "text/plain": [
              "<PIL.Image.Image image mode=RGB size=128x128 at 0x7FD18E0DF4F0>"
            ],
            "image/png": "[encoded data removed]"
          },
          "metadata": {}
        },
        {
          "output_type": "stream",
          "name": "stdout",
          "text": [
            "Guessed Color: misc light colors\n"
          ]
        },
        {
          "output_type": "display_data",
          "data": {
            "text/plain": [
              "<PIL.Image.Image image mode=RGB size=128x128 at 0x7FD18DAF4430>"
            ],
            "image/png": "[encoded data removed]"
          },
          "metadata": {}
        },
        {
          "output_type": "stream",
          "name": "stdout",
          "text": [
            "Guessed Color: light blue\n"
          ]
        },
        {
          "output_type": "display_data",
          "data": {
            "text/plain": [
              "<PIL.Image.Image image mode=RGB size=128x128 at 0x7FD18E0DF5E0>"
            ],
            "image/png": "[encoded data removed]"
          },
          "metadata": {}
        },
        {
          "output_type": "stream",
          "name": "stdout",
          "text": [
            "Guessed Color: light blue\n"
          ]
        },
        {
          "output_type": "display_data",
          "data": {
            "text/plain": [
              "<PIL.Image.Image image mode=RGB size=128x128 at 0x7FD18DAF4430>"
            ],
            "image/png": "[encoded data removed]"
          },
          "metadata": {}
        },
        {
          "output_type": "stream",
          "name": "stdout",
          "text": [
            "Guessed Color: red\n"
          ]
        },
        {
          "output_type": "display_data",
          "data": {
            "text/plain": [
              "<PIL.Image.Image image mode=RGB size=128x128 at 0x7FD18E0DF5E0>"
            ],
            "image/png": "[encoded data removed]"
          },
          "metadata": {}
        },
        {
          "output_type": "stream",
          "name": "stdout",
          "text": [
            "Guessed Color: red\n"
          ]
        },
        {
          "output_type": "display_data",
          "data": {
            "text/plain": [
              "<PIL.Image.Image image mode=RGB size=128x128 at 0x7FD18DAF4430>"
            ],
            "image/png": "[encoded data removed]"
          },
          "metadata": {}
        },
        {
          "output_type": "stream",
          "name": "stdout",
          "text": [
            "Guessed Color: red\n"
          ]
        },
        {
          "output_type": "display_data",
          "data": {
            "text/plain": [
              "<PIL.Image.Image image mode=RGB size=128x128 at 0x7FD18E0DF5E0>"
            ],
            "image/png": "[encoded data removed]"
          },
          "metadata": {}
        },
        {
          "output_type": "stream",
          "name": "stdout",
          "text": [
            "Guessed Color: grayish blue\n"
          ]
        },
        {
          "output_type": "display_data",
          "data": {
            "text/plain": [
              "<PIL.Image.Image image mode=RGB size=128x128 at 0x7FD18DAF4430>"
            ],
            "image/png": "[encoded data removed]"
          },
          "metadata": {}
        },
        {
          "output_type": "stream",
          "name": "stdout",
          "text": [
            "Guessed Color: red\n"
          ]
        },
        {
          "output_type": "display_data",
          "data": {
            "text/plain": [
              "<PIL.Image.Image image mode=RGB size=128x128 at 0x7FD18E0DF5E0>"
            ],
            "image/png": "[encoded data removed]"
          },
          "metadata": {}
        },
        {
          "output_type": "stream",
          "name": "stdout",
          "text": [
            "Guessed Color: brown\n"
          ]
        },
        {
          "output_type": "display_data",
          "data": {
            "text/plain": [
              "<PIL.Image.Image image mode=RGB size=128x128 at 0x7FD18E0DF4F0>"
            ],
            "image/png": "[encoded data removed]"
          },
          "metadata": {}
        },
        {
          "output_type": "stream",
          "name": "stdout",
          "text": [
            "Guessed Color: misc light colors\n"
          ]
        },
        {
          "output_type": "display_data",
          "data": {
            "text/plain": [
              "<PIL.Image.Image image mode=RGB size=128x128 at 0x7FD18E0DF5E0>"
            ],
            "image/png": "[encoded data removed]"
          },
          "metadata": {}
        },
        {
          "output_type": "stream",
          "name": "stdout",
          "text": [
            "Guessed Color: light blue\n"
          ]
        },
        {
          "output_type": "display_data",
          "data": {
            "text/plain": [
              "<PIL.Image.Image image mode=RGB size=128x128 at 0x7FD18E0DF4F0>"
            ],
            "image/png": "[encoded data removed]"
          },
          "metadata": {}
        },
        {
          "output_type": "stream",
          "name": "stdout",
          "text": [
            "Guessed Color: yellow\n"
          ]
        },
        {
          "output_type": "display_data",
          "data": {
            "text/plain": [
              "<PIL.Image.Image image mode=RGB size=128x128 at 0x7FD18E0DF5E0>"
            ],
            "image/png": "[encoded data removed]"
          },
          "metadata": {}
        },
        {
          "output_type": "stream",
          "name": "stdout",
          "text": [
            "Guessed Color: yellow\n"
          ]
        },
        {
          "output_type": "display_data",
          "data": {
            "text/plain": [
              "<PIL.Image.Image image mode=RGB size=128x128 at 0x7FD18E0DF4F0>"
            ],
            "image/png": "[encoded data removed]"
          },
          "metadata": {}
        },
        {
          "output_type": "stream",
          "name": "stdout",
          "text": [
            "Guessed Color: misc light colors\n"
          ]
        },
        {
          "output_type": "display_data",
          "data": {
            "text/plain": [
              "<PIL.Image.Image image mode=RGB size=128x128 at 0x7FD18E0DF5E0>"
            ],
            "image/png": "[encoded data removed]"
          },
          "metadata": {}
        },
        {
          "output_type": "stream",
          "name": "stdout",
          "text": [
            "Guessed Color: light blue\n"
          ]
        },
        {
          "output_type": "display_data",
          "data": {
            "text/plain": [
              "<PIL.Image.Image image mode=RGB size=128x128 at 0x7FD18E0DF4F0>"
            ],
            "image/png": "[encoded data removed]"
          },
          "metadata": {}
        },
        {
          "output_type": "stream",
          "name": "stdout",
          "text": [
            "Guessed Color: yellow\n"
          ]
        },
        {
          "output_type": "display_data",
          "data": {
            "text/plain": [
              "<PIL.Image.Image image mode=RGB size=128x128 at 0x7FD18DAF4430>"
            ],
            "image/png": "[encoded data removed]"
          },
          "metadata": {}
        },
        {
          "output_type": "stream",
          "name": "stdout",
          "text": [
            "Guessed Color: yellow\n"
          ]
        },
        {
          "output_type": "display_data",
          "data": {
            "text/plain": [
              "<PIL.Image.Image image mode=RGB size=128x128 at 0x7FD18E0DF5E0>"
            ],
            "image/png": "[encoded data removed]"
          },
          "metadata": {}
        },
        {
          "output_type": "stream",
          "name": "stdout",
          "text": [
            "Guessed Color: misc light colors\n"
          ]
        },
        {
          "output_type": "display_data",
          "data": {
            "text/plain": [
              "<PIL.Image.Image image mode=RGB size=128x128 at 0x7FD18E0DF4F0>"
            ],
            "image/png": "[encoded data removed]"
          },
          "metadata": {}
        },
        {
          "output_type": "stream",
          "name": "stdout",
          "text": [
            "Guessed Color: gray\n"
          ]
        },
        {
          "output_type": "display_data",
          "data": {
            "text/plain": [
              "<PIL.Image.Image image mode=RGB size=128x128 at 0x7FD18E0DF5E0>"
            ],
            "image/png": "[encoded data removed]"
          },
          "metadata": {}
        },
        {
          "output_type": "stream",
          "name": "stdout",
          "text": [
            "Guessed Color: red\n"
          ]
        },
        {
          "output_type": "display_data",
          "data": {
            "text/plain": [
              "<PIL.Image.Image image mode=RGB size=128x128 at 0x7FD18E0DF5E0>"
            ],
            "image/png": "[encoded data removed]"
          },
          "metadata": {}
        },
        {
          "output_type": "stream",
          "name": "stdout",
          "text": [
            "Guessed Color: red\n"
          ]
        },
        {
          "output_type": "display_data",
          "data": {
            "text/plain": [
              "<PIL.Image.Image image mode=RGB size=128x128 at 0x7FD18E0DF5E0>"
            ],
            "image/png": "[encoded data removed]"
          },
          "metadata": {}
        },
        {
          "output_type": "stream",
          "name": "stdout",
          "text": [
            "Guessed Color: red\n"
          ]
        },
        {
          "output_type": "display_data",
          "data": {
            "text/plain": [
              "<PIL.Image.Image image mode=RGB size=128x128 at 0x7FD18E0DF5E0>"
            ],
            "image/png": "[encoded data removed]"
          },
          "metadata": {}
        },
        {
          "output_type": "stream",
          "name": "stdout",
          "text": [
            "Guessed Color: misc light colors\n"
          ]
        },
        {
          "output_type": "display_data",
          "data": {
            "text/plain": [
              "<PIL.Image.Image image mode=RGB size=128x128 at 0x7FD18E0DF5E0>"
            ],
            "image/png": "[encoded data removed]"
          },
          "metadata": {}
        },
        {
          "output_type": "stream",
          "name": "stdout",
          "text": [
            "Guessed Color: red\n"
          ]
        },
        {
          "output_type": "display_data",
          "data": {
            "text/plain": [
              "<PIL.Image.Image image mode=RGB size=128x128 at 0x7FD18E0DF5E0>"
            ],
            "image/png": "[encoded data removed]"
          },
          "metadata": {}
        },
        {
          "output_type": "stream",
          "name": "stdout",
          "text": [
            "Guessed Color: red\n"
          ]
        },
        {
          "output_type": "display_data",
          "data": {
            "text/plain": [
              "<PIL.Image.Image image mode=RGB size=128x128 at 0x7FD18E0DF5E0>"
            ],
            "image/png": "[encoded data removed]"
          },
          "metadata": {}
        },
        {
          "output_type": "stream",
          "name": "stdout",
          "text": [
            "Guessed Color: misc light colors\n"
          ]
        },
        {
          "output_type": "display_data",
          "data": {
            "text/plain": [
              "<PIL.Image.Image image mode=RGB size=128x128 at 0x7FD18E0DF5E0>"
            ],
            "image/png": "[encoded data removed]"
          },
          "metadata": {}
        },
        {
          "output_type": "stream",
          "name": "stdout",
          "text": [
            "Guessed Color: misc light colors\n"
          ]
        },
        {
          "output_type": "display_data",
          "data": {
            "text/plain": [
              "<PIL.Image.Image image mode=RGB size=128x128 at 0x7FD18E0DF5E0>"
            ],
            "image/png": "[encoded data removed]"
          },
          "metadata": {}
        },
        {
          "output_type": "stream",
          "name": "stdout",
          "text": [
            "Guessed Color: yellow\n"
          ]
        },
        {
          "output_type": "display_data",
          "data": {
            "text/plain": [
              "<PIL.Image.Image image mode=RGB size=128x128 at 0x7FD18E0DF5E0>"
            ],
            "image/png": "[encoded data removed]"
          },
          "metadata": {}
        },
        {
          "output_type": "stream",
          "name": "stdout",
          "text": [
            "Guessed Color: yellow\n"
          ]
        },
        {
          "output_type": "display_data",
          "data": {
            "text/plain": [
              "<PIL.Image.Image image mode=RGB size=128x128 at 0x7FD18E0DF4F0>"
            ],
            "image/png": "[encoded data removed]"
          },
          "metadata": {}
        },
        {
          "output_type": "stream",
          "name": "stdout",
          "text": [
            "Guessed Color: misc light colors\n"
          ]
        },
        {
          "output_type": "display_data",
          "data": {
            "text/plain": [
              "<PIL.Image.Image image mode=RGB size=128x128 at 0x7FD18E0DF4F0>"
            ],
            "image/png": "[encoded data removed]"
          },
          "metadata": {}
        },
        {
          "output_type": "stream",
          "name": "stdout",
          "text": [
            "Guessed Color: gray\n"
          ]
        },
        {
          "output_type": "display_data",
          "data": {
            "text/plain": [
              "<PIL.Image.Image image mode=RGB size=128x128 at 0x7FD18E0DF4F0>"
            ],
            "image/png": "[encoded data removed]"
          },
          "metadata": {}
        },
        {
          "output_type": "stream",
          "name": "stdout",
          "text": [
            "Guessed Color: yellow\n"
          ]
        },
        {
          "output_type": "display_data",
          "data": {
            "text/plain": [
              "<PIL.Image.Image image mode=RGB size=128x128 at 0x7FD18E0DF4F0>"
            ],
            "image/png": "[encoded data removed]"
          },
          "metadata": {}
        },
        {
          "output_type": "stream",
          "name": "stdout",
          "text": [
            "Guessed Color: yellow\n"
          ]
        },
        {
          "output_type": "display_data",
          "data": {
            "text/plain": [
              "<PIL.Image.Image image mode=RGB size=128x128 at 0x7FD18E0DF4F0>"
            ],
            "image/png": "[encoded data removed]"
          },
          "metadata": {}
        },
        {
          "output_type": "stream",
          "name": "stdout",
          "text": [
            "Guessed Color: gray\n"
          ]
        },
        {
          "output_type": "display_data",
          "data": {
            "text/plain": [
              "<PIL.Image.Image image mode=RGB size=128x128 at 0x7FD18E0DF4F0>"
            ],
            "image/png": "[encoded data removed]"
          },
          "metadata": {}
        },
        {
          "output_type": "stream",
          "name": "stdout",
          "text": [
            "Guessed Color: gray\n"
          ]
        }
      ],
      "source": [
        "test_colors = make_test_colors()\n",
        "\n",
        "for ii,cc in enumerate(test_colors):\n",
        "  ## do something clever\n",
        "    color_name = guess_color(centroids=centroids, color_dict=color_dict, test_color=cc)\n",
        "    show_color(cc, color_name)\n",
        "  \n",
        "  "
      ]
    },
    {
      "cell_type": "markdown",
      "source": [
        "The model is very good at detecting light blue and black. These were the clusters from our rendering in Exercise 2 that had most of the data points looking very similar. On the other hand, we had a couple clusters like 6 and 8 that had a lot of different colors that very somewhat similar (in that they were either light or dark or similar palette). For these, our model did not predict as well since the clusters learned did not concretely corresponding to a specific color in the first place."
      ],
      "metadata": {
        "id": "nJYwNHRgOmhF"
      }
    },
    {
      "cell_type": "markdown",
      "metadata": {
        "id": "r_AS45RWoc2D"
      },
      "source": [
        "## Review\n",
        "\n"
      ]
    }
  ],
  "metadata": {
    "colab": {
      "provenance": [],
      "include_colab_link": true
    },
    "kernelspec": {
      "display_name": "Python 3 (ipykernel)",
      "language": "python",
      "name": "python3"
    },
    "language_info": {
      "codemirror_mode": {
        "name": "ipython",
        "version": 3
      },
      "file_extension": ".py",
      "mimetype": "text/x-python",
      "name": "python",
      "nbconvert_exporter": "python",
      "pygments_lexer": "ipython3",
      "version": "3.9.7"
    },
    "gpuClass": "standard"
  },
  "nbformat": 4,
  "nbformat_minor": 0
}